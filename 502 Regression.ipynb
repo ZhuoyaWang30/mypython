{
 "cells": [
  {
   "cell_type": "code",
   "execution_count": 1,
   "metadata": {},
   "outputs": [],
   "source": [
    "import pandas as pd"
   ]
  },
  {
   "cell_type": "code",
   "execution_count": 2,
   "metadata": {},
   "outputs": [
    {
     "data": {
      "text/html": [
       "<div>\n",
       "<style scoped>\n",
       "    .dataframe tbody tr th:only-of-type {\n",
       "        vertical-align: middle;\n",
       "    }\n",
       "\n",
       "    .dataframe tbody tr th {\n",
       "        vertical-align: top;\n",
       "    }\n",
       "\n",
       "    .dataframe thead th {\n",
       "        text-align: right;\n",
       "    }\n",
       "</style>\n",
       "<table border=\"1\" class=\"dataframe\">\n",
       "  <thead>\n",
       "    <tr style=\"text-align: right;\">\n",
       "      <th></th>\n",
       "      <th>TOTAL VALUE</th>\n",
       "      <th>TAX</th>\n",
       "      <th>LOT SQFT</th>\n",
       "      <th>GROSS AREA</th>\n",
       "      <th>LIVING AREA</th>\n",
       "      <th>FLOORS</th>\n",
       "      <th>ROOMS</th>\n",
       "      <th>BEDROOMS</th>\n",
       "      <th>FULL BATH</th>\n",
       "      <th>HALF BATH</th>\n",
       "      <th>KITCHEN</th>\n",
       "      <th>FIREPLACE</th>\n",
       "    </tr>\n",
       "  </thead>\n",
       "  <tbody>\n",
       "    <tr>\n",
       "      <th>0</th>\n",
       "      <td>344.2</td>\n",
       "      <td>4330</td>\n",
       "      <td>9965</td>\n",
       "      <td>2436</td>\n",
       "      <td>1352</td>\n",
       "      <td>2.0</td>\n",
       "      <td>6</td>\n",
       "      <td>3</td>\n",
       "      <td>1</td>\n",
       "      <td>1</td>\n",
       "      <td>1</td>\n",
       "      <td>0</td>\n",
       "    </tr>\n",
       "    <tr>\n",
       "      <th>1</th>\n",
       "      <td>412.6</td>\n",
       "      <td>5190</td>\n",
       "      <td>6590</td>\n",
       "      <td>3108</td>\n",
       "      <td>1976</td>\n",
       "      <td>2.0</td>\n",
       "      <td>10</td>\n",
       "      <td>4</td>\n",
       "      <td>2</td>\n",
       "      <td>1</td>\n",
       "      <td>1</td>\n",
       "      <td>0</td>\n",
       "    </tr>\n",
       "    <tr>\n",
       "      <th>2</th>\n",
       "      <td>330.1</td>\n",
       "      <td>4152</td>\n",
       "      <td>7500</td>\n",
       "      <td>2294</td>\n",
       "      <td>1371</td>\n",
       "      <td>2.0</td>\n",
       "      <td>8</td>\n",
       "      <td>4</td>\n",
       "      <td>1</td>\n",
       "      <td>1</td>\n",
       "      <td>1</td>\n",
       "      <td>0</td>\n",
       "    </tr>\n",
       "    <tr>\n",
       "      <th>3</th>\n",
       "      <td>498.6</td>\n",
       "      <td>6272</td>\n",
       "      <td>13773</td>\n",
       "      <td>5032</td>\n",
       "      <td>2608</td>\n",
       "      <td>1.0</td>\n",
       "      <td>9</td>\n",
       "      <td>5</td>\n",
       "      <td>1</td>\n",
       "      <td>1</td>\n",
       "      <td>1</td>\n",
       "      <td>1</td>\n",
       "    </tr>\n",
       "    <tr>\n",
       "      <th>4</th>\n",
       "      <td>331.5</td>\n",
       "      <td>4170</td>\n",
       "      <td>5000</td>\n",
       "      <td>2370</td>\n",
       "      <td>1438</td>\n",
       "      <td>2.0</td>\n",
       "      <td>7</td>\n",
       "      <td>3</td>\n",
       "      <td>2</td>\n",
       "      <td>0</td>\n",
       "      <td>1</td>\n",
       "      <td>0</td>\n",
       "    </tr>\n",
       "  </tbody>\n",
       "</table>\n",
       "</div>"
      ],
      "text/plain": [
       "   TOTAL VALUE    TAX  LOT SQFT   GROSS AREA   LIVING AREA  FLOORS   ROOMS  \\\n",
       "0         344.2  4330       9965         2436         1352      2.0      6   \n",
       "1         412.6  5190       6590         3108         1976      2.0     10   \n",
       "2         330.1  4152       7500         2294         1371      2.0      8   \n",
       "3         498.6  6272      13773         5032         2608      1.0      9   \n",
       "4         331.5  4170       5000         2370         1438      2.0      7   \n",
       "\n",
       "   BEDROOMS   FULL BATH  HALF BATH  KITCHEN  FIREPLACE  \n",
       "0          3          1          1        1          0  \n",
       "1          4          2          1        1          0  \n",
       "2          4          1          1        1          0  \n",
       "3          5          1          1        1          1  \n",
       "4          3          2          0        1          0  "
      ]
     },
     "execution_count": 2,
     "metadata": {},
     "output_type": "execute_result"
    }
   ],
   "source": [
    "#house example\n",
    "house = pd.read_csv('WestRoxbury.csv')\n",
    "house.head()"
   ]
  },
  {
   "cell_type": "code",
   "execution_count": 3,
   "metadata": {},
   "outputs": [
    {
     "name": "stdout",
     "output_type": "stream",
     "text": [
      "['TOTAL VALUE ' 'TAX' 'LOT SQFT ' 'GROSS AREA ' 'LIVING AREA' 'FLOORS '\n",
      " 'ROOMS' 'BEDROOMS ' 'FULL BATH' 'HALF BATH' 'KITCHEN' 'FIREPLACE']\n"
     ]
    }
   ],
   "source": [
    "attr = house.values    #convert the values to a numpy array\n",
    "print house.columns.values"
   ]
  },
  {
   "cell_type": "code",
   "execution_count": 5,
   "metadata": {},
   "outputs": [
    {
     "name": "stdout",
     "output_type": "stream",
     "text": [
      "(5802L, 3L)\n"
     ]
    }
   ],
   "source": [
    "#choose predictors to construct attribute matrix(X)\n",
    "#in this example, we choose Tax, Floors and Rooms as our predictors.\n",
    "\n",
    "select_index = [1, 5, 6] #select_index = what we use as predictors\n",
    "house_X = attr[:, select_index]\n",
    "print house_X.shape\n",
    "\n",
    "#target\n",
    "house_y = attr[:, 0]"
   ]
  },
  {
   "cell_type": "code",
   "execution_count": 8,
   "metadata": {},
   "outputs": [
    {
     "data": {
      "text/plain": [
       "(5802L, 3L)"
      ]
     },
     "execution_count": 8,
     "metadata": {},
     "output_type": "execute_result"
    }
   ],
   "source": [
    "#alternative (optional)\n",
    "import numpy as np\n",
    "np.shape(house_X)"
   ]
  },
  {
   "cell_type": "code",
   "execution_count": 9,
   "metadata": {},
   "outputs": [],
   "source": [
    "#split the data into two parts: training and validation (\"test\" means validation data)\n",
    "#sklearn is a short standard of Scikit-Learn\n",
    "from sklearn.model_selection import train_test_split\n",
    "X_train, X_valid, y_train, y_valid = \\\n",
    "train_test_split(house_X, house_y, test_size = 0.3, random_state = 42 )   \n",
    "#train_test_split is a function\n",
    "#\"test_size\" means the validation size = 0.3 means the percentage of the whole data"
   ]
  },
  {
   "cell_type": "code",
   "execution_count": 10,
   "metadata": {},
   "outputs": [
    {
     "name": "stdout",
     "output_type": "stream",
     "text": [
      "(1741L,)\n"
     ]
    }
   ],
   "source": [
    "print y_valid.shape"
   ]
  },
  {
   "cell_type": "code",
   "execution_count": 11,
   "metadata": {},
   "outputs": [],
   "source": [
    "from sklearn.linear_model import LinearRegression\n",
    "model = LinearRegression()"
   ]
  },
  {
   "cell_type": "code",
   "execution_count": 13,
   "metadata": {},
   "outputs": [
    {
     "data": {
      "text/plain": [
       "LinearRegression(copy_X=True, fit_intercept=True, n_jobs=1, normalize=False)"
      ]
     },
     "execution_count": 13,
     "metadata": {},
     "output_type": "execute_result"
    }
   ],
   "source": [
    "import numpy as np\n",
    "#Train the model using the training set\n",
    "model.fit(X_train, y_train)\n",
    "#outputs all coefficients are fit in the model??????"
   ]
  },
  {
   "cell_type": "code",
   "execution_count": 16,
   "metadata": {},
   "outputs": [
    {
     "name": "stdout",
     "output_type": "stream",
     "text": [
      "[ 0.0795  0.0003 -0.0003]\n",
      "0.0397\n"
     ]
    }
   ],
   "source": [
    "np.set_printoptions(precision = 4, suppress = True)   #set precision for numpy arrays (make there are 4 digits numbers after .)\n",
    "                                                      #\"suppress = True\" means \"get ride of scienfic notation like E\"\n",
    "print model.coef_  #coefficients in the order\n",
    "print '%.4f'% model.intercept_  #intercept of the linear regression  ('$.4f%' also limit the number of digits = 4)\n",
    "# so the queation: Total Value = 0.0397+ 0.0795*Tax + 0.0003*Floors - 0.0003*Rooms"
   ]
  },
  {
   "cell_type": "code",
   "execution_count": 17,
   "metadata": {},
   "outputs": [
    {
     "name": "stdout",
     "output_type": "stream",
     "text": [
      "[344.2371]\n"
     ]
    }
   ],
   "source": [
    "#make predictions for the validation data set (y_pred standard function)\n",
    "y_pred = model.predict(X_valid)\n",
    "\n",
    "#make prediction for a example: for a new house with 'Tax=4330, floors=2,rooms=6'  \n",
    "y_new_pred = model.predict([ [4330, 2, 6]])  #because it is a 2d matrix so has two '[]'\n",
    "print y_new_pred"
   ]
  },
  {
   "cell_type": "code",
   "execution_count": 3,
   "metadata": {},
   "outputs": [
    {
     "ename": "NameError",
     "evalue": "name 'y_valid' is not defined",
     "output_type": "error",
     "traceback": [
      "\u001b[1;31m---------------------------------------------------------------------------\u001b[0m",
      "\u001b[1;31mNameError\u001b[0m                                 Traceback (most recent call last)",
      "\u001b[1;32m<ipython-input-3-1686051bb34f>\u001b[0m in \u001b[0;36m<module>\u001b[1;34m()\u001b[0m\n\u001b[0;32m      1\u001b[0m \u001b[1;31m#Lets compute the mean absolute error of the validation set\u001b[0m\u001b[1;33m\u001b[0m\u001b[1;33m\u001b[0m\u001b[0m\n\u001b[0;32m      2\u001b[0m \u001b[1;32mimport\u001b[0m \u001b[0mnumpy\u001b[0m \u001b[1;32mas\u001b[0m \u001b[0mnp\u001b[0m\u001b[1;33m\u001b[0m\u001b[0m\n\u001b[1;32m----> 3\u001b[1;33m \u001b[0me\u001b[0m \u001b[1;33m=\u001b[0m \u001b[0my_valid\u001b[0m \u001b[1;33m-\u001b[0m \u001b[0my_pred\u001b[0m\u001b[1;33m\u001b[0m\u001b[0m\n\u001b[0m\u001b[0;32m      4\u001b[0m \u001b[1;33m\u001b[0m\u001b[0m\n\u001b[0;32m      5\u001b[0m \u001b[1;31m#compute mae= \"mean absolute error\"\u001b[0m\u001b[1;33m\u001b[0m\u001b[1;33m\u001b[0m\u001b[0m\n",
      "\u001b[1;31mNameError\u001b[0m: name 'y_valid' is not defined"
     ]
    }
   ],
   "source": [
    "#Lets compute the mean absolute error of the validation set\n",
    "import numpy as np\n",
    "e = y_valid - y_pred\n",
    "\n",
    "#compute mae= \"mean absolute error\"\n",
    "mae = np.mean(np.abs(e)) \n",
    "print mae"
   ]
  },
  {
   "cell_type": "code",
   "execution_count": 20,
   "metadata": {},
   "outputs": [
    {
     "name": "stdout",
     "output_type": "stream",
     "text": [
      "0.019564269394721674\n"
     ]
    }
   ],
   "source": [
    "#make predictions on the training data set\n",
    "y_pred_train = model.predict(X_train)\n",
    "\n",
    "e = y_train - y_pred_train\n",
    "\n",
    "mae = np.mean(np.abs(e)) \n",
    "print mae     \n",
    "#the training data error is little bit smaller than the validation data error. But the mae numbers are close to each other.\n",
    "#so we can conclude the prediction is a good one."
   ]
  },
  {
   "cell_type": "code",
   "execution_count": null,
   "metadata": {},
   "outputs": [],
   "source": []
  }
 ],
 "metadata": {
  "kernelspec": {
   "display_name": "Python 2",
   "language": "python",
   "name": "python2"
  },
  "language_info": {
   "codemirror_mode": {
    "name": "ipython",
    "version": 2
   },
   "file_extension": ".py",
   "mimetype": "text/x-python",
   "name": "python",
   "nbconvert_exporter": "python",
   "pygments_lexer": "ipython2",
   "version": "2.7.15"
  }
 },
 "nbformat": 4,
 "nbformat_minor": 2
}
