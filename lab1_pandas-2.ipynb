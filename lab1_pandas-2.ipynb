{
 "cells": [
  {
   "cell_type": "code",
   "execution_count": null,
   "metadata": {
    "collapsed": true
   },
   "outputs": [],
   "source": [
    "# install packages\n",
    "import sys\n",
    "\n",
    "!conda install --yes --prefix {sys.prefix} numpy scipy pandas matplotlib seaborn"
   ]
  },
  {
   "cell_type": "markdown",
   "metadata": {},
   "source": [
    "# Introduction to Pandas\n",
    "\n",
    "_pandas_ is designed to make it easier to work with structured data. Most of the analyses you might perform will likely involve using tabular data, e.g., from .csv files or relational databases (e.g., SQL). The pandas name itself is derived from panel data, an econometrics term for multidimensional structured data sets, and Python data analysis itself. In this notebook, we will go through some examples to get you familiar with the pandas package."
   ]
  },
  {
   "cell_type": "code",
   "execution_count": null,
   "metadata": {
    "collapsed": true
   },
   "outputs": [],
   "source": [
    "# import pandas using the conventional abbreviation\n",
    "import numpy as np\n",
    "import pandas as pd"
   ]
  },
  {
   "cell_type": "markdown",
   "metadata": {},
   "source": [
    "## Series and DataFrame in Pandas\n",
    "There are two fundamental data structures in Pandas:\n",
    "- Series: a one-dimensional array of indexed data. (the equivalent of _vector_ in R)\n",
    "- DataFrame: a two-dimensional array of indexed data. (the equivalent of _data frame_ in R)\n",
    "\n",
    "We can create pandas series and dataframes from raw data as follows."
   ]
  },
  {
   "cell_type": "code",
   "execution_count": null,
   "metadata": {},
   "outputs": [],
   "source": [
    "# create a pandas series\n",
    "s = pd.Series([0.25, 0.5, 0.75, 1.0], index=['a', 'b', 'c', 'd'])\n",
    "print(\"This is a pandas series:\")\n",
    "display(s)\n",
    "\n",
    "# you can access the number in a pandas series using either the labelled index or the integer index.\n",
    "print(\"Access the first number with labelled index: {0} and with integer index: {1}\".format(s['a'], s[0]))\n",
    "\n",
    "# create a pandas dataframe\n",
    "df = pd.DataFrame({\n",
    "    'value': [0.25, 0.5, 0.75, 1.0],\n",
    "    'label': ['A', 'B', 'C', 'D']\n",
    "})\n",
    "print(\"This is a pandas dataframe:\")\n",
    "display(df)\n",
    "\n",
    "df1 = pd.DataFrame({'x': s, 'y': s})\n",
    "print(\"This is another pandas dataframe:\")\n",
    "display(df1)"
   ]
  },
  {
   "cell_type": "markdown",
   "metadata": {},
   "source": [
    "### Task 1:\n",
    "Create a dataframe from feature and label below with proper row index and col index."
   ]
  },
  {
   "cell_type": "code",
   "execution_count": null,
   "metadata": {},
   "outputs": [],
   "source": [
    "np.random.seed(0)  # seed for reproducibility\n",
    "\n",
    "feature = np.random.randint(10, size=6)\n",
    "label = np.array(['p', 'n', 'n', 'p', 'n', 'n'])\n",
    "row_index = np.array(['a', 'b', 'c', 'd', 'e', 'f'])\n",
    "\n",
    "df2 = # TODO"
   ]
  },
  {
   "cell_type": "markdown",
   "metadata": {},
   "source": [
    "## Basic properties of a series or dataframe"
   ]
  },
  {
   "cell_type": "code",
   "execution_count": null,
   "metadata": {},
   "outputs": [],
   "source": [
    "# basis properties of a series\n",
    "print(\"Length of the series: {}\".format(len(s)))\n",
    "print(\"Index names of the series: {}\".format(list(s.index)))\n",
    "\n",
    "# basis properties of a dataframe\n",
    "print(\"Column names of the dataframe: {}\".format(list(df.columns)))\n",
    "print(\"Index names of the dataframe: {}\".format(list(df.index)))\n",
    "print(\"Number of dimensions of the dataframe: {}\".format(df.ndim))\n",
    "print(\"Shape of the dataframe: {}\".format(df.shape))\n",
    "\n",
    "# statistics of a numerical data column\n",
    "display(df2['feature'].describe())\n",
    "\n",
    "# frequency of a categorical data column\n",
    "display(df2['label'].value_counts())\n"
   ]
  },
  {
   "cell_type": "markdown",
   "metadata": {},
   "source": [
    "## Loading data into a Dataframe from text file"
   ]
  },
  {
   "cell_type": "code",
   "execution_count": null,
   "metadata": {},
   "outputs": [],
   "source": [
    "# read a csv file\n",
    "pop = pd.read_csv('https://raw.githubusercontent.com/zariable/UW-MSIS522/master/lab/data/state-population.csv')\n",
    "display(pop.head())\n",
    "\n",
    "# rename\n",
    "pop.rename(columns={\"state/region\": \"state\"}, inplace=True)\n",
    "display(pop.head())"
   ]
  },
  {
   "cell_type": "markdown",
   "metadata": {},
   "source": [
    "## Data indexing, slicing and filtering\n",
    "To address a subset of data in a dataframe, we can use either [loc](https://pandas.pydata.org/pandas-docs/stable/generated/pandas.DataFrame.loc.html) or [iloc](https://pandas.pydata.org/pandas-docs/version/0.17.0/generated/pandas.DataFrame.iloc.html) functions in pandas API.\n",
    "- loc: Access a group of rows and columns by label(s) or a boolean array.\n",
    "- iloc: Purely integer-location based indexing for selection by position."
   ]
  },
  {
   "cell_type": "code",
   "execution_count": null,
   "metadata": {},
   "outputs": [],
   "source": [
    "# indexing & slicing using index and column names\n",
    "display(pop.loc[2, ['state', 'population']])\n",
    "display(pop.loc[1:4, ['state', 'population']])\n",
    "\n",
    "# indexing & slicing using index and column integer indices\n",
    "display(pop.iloc[:3, :3])\n",
    "\n",
    "pop_age_year = pop.loc[:, ['ages', 'population']]\n",
    "display(pop_age_year.head())\n",
    "\n",
    "# filtering\n",
    "pop_2012 = pop.loc[pop['year'] == 2012, :]\n",
    "display(pop_2012.head())\n",
    "\n",
    "# filtering on multiple columns\n",
    "pop_2012_total = pop.loc[(pop['year'] == 2012) & (pop['ages'] == 'total'), :]\n",
    "display(pop_2012_total.head())\n",
    "\n",
    "# filtering and slicing\n",
    "pop_2012_total_2 = pop.loc[(pop['year'] == 2012) & (pop['ages'] == 'total'), ['state', 'population']]\n",
    "display(pop_2012_total_2.head())"
   ]
  },
  {
   "cell_type": "markdown",
   "metadata": {},
   "source": [
    "### Task 2: Find the total population for WA in year 2010."
   ]
  },
  {
   "cell_type": "code",
   "execution_count": null,
   "metadata": {},
   "outputs": [],
   "source": [
    "# TODO"
   ]
  },
  {
   "cell_type": "markdown",
   "metadata": {},
   "source": [
    "### Task 3: Calculate the median of population for all age groups across all states in 2010."
   ]
  },
  {
   "cell_type": "code",
   "execution_count": null,
   "metadata": {},
   "outputs": [],
   "source": [
    "# TODO"
   ]
  },
  {
   "cell_type": "markdown",
   "metadata": {},
   "source": [
    "## Concatenating multiple Dataframes"
   ]
  },
  {
   "cell_type": "code",
   "execution_count": null,
   "metadata": {},
   "outputs": [],
   "source": [
    "pop_wa = pop.loc[(pop['state'] == 'WA') & (pop['year'].isin([2011, 2012])), :]\n",
    "print(\"pop_wa:\\n {}\".format(pop_wa.head()))\n",
    "\n",
    "pop_or = pop.loc[(pop['state'] == 'OR') & (pop['year'].isin([2011, 2012])), :]\n",
    "print(\"pop_or:\\n {}\".format(pop_or.head()))\n",
    "\n",
    "pop_nw = pd.concat([pop_wa, pop_or])\n",
    "print(\"pop_nw:\\n {}\".format(pop_nw.head(10)))\n"
   ]
  },
  {
   "cell_type": "markdown",
   "metadata": {},
   "source": [
    "## Joining multiple Dataframes"
   ]
  },
  {
   "cell_type": "code",
   "execution_count": null,
   "metadata": {},
   "outputs": [],
   "source": [
    "# join options: innerm, left, right and outer\n",
    "food = pd.DataFrame({\n",
    "    'name': ['Peter', 'Paul', 'Mary'],\n",
    "    'food': ['fish', 'beans', 'bread']},\n",
    "    columns=['name', 'food'])\n",
    "drink = pd.DataFrame({\n",
    "    'name': ['Mary', 'Joseph'],\n",
    "    'drink': ['wine', 'beer']},\n",
    "    columns=['name', 'drink'])\n",
    "display(food)\n",
    "display(drink)\n",
    "\n",
    "# default inner join\n",
    "join_inner = pd.merge(food, drink, how='inner')\n",
    "display(join_inner)\n",
    "\n",
    "# default left join\n",
    "join_left = pd.merge(food, drink, how='left')\n",
    "display(join_left)\n",
    "\n",
    "# default right join\n",
    "join_right = pd.merge(food, drink, how='right')\n",
    "display(join_right)\n",
    "\n",
    "# default outer join\n",
    "join_outer = pd.merge(food, drink, how='outer')\n",
    "display(join_outer)"
   ]
  },
  {
   "cell_type": "code",
   "execution_count": null,
   "metadata": {},
   "outputs": [],
   "source": [
    "areas = pd.read_csv('https://raw.githubusercontent.com/zariable/UW-MSIS522/master/lab/data/state-areas.csv')\n",
    "areas.rename(columns={'area (sq. mi)': 'area'}, inplace=True)\n",
    "display(areas.head())\n",
    "\n",
    "abbrevs = pd.read_csv('https://raw.githubusercontent.com/zariable/UW-MSIS522/master/lab/data/state-abbrevs.csv')\n",
    "display(abbrevs.head())"
   ]
  },
  {
   "cell_type": "markdown",
   "metadata": {},
   "source": [
    "### Task 4: Join pop dataframe with abbrevs and areas dataframes to find the areas for each state."
   ]
  },
  {
   "cell_type": "code",
   "execution_count": null,
   "metadata": {},
   "outputs": [],
   "source": [
    "# TODO"
   ]
  },
  {
   "cell_type": "markdown",
   "metadata": {},
   "source": [
    "## Sorting dataframe"
   ]
  },
  {
   "cell_type": "code",
   "execution_count": null,
   "metadata": {},
   "outputs": [],
   "source": [
    "# find the state with the largest population per square mile\n",
    "pop_abbrevs_areas['density'] = pop_abbrevs_areas['population'] / pop_abbrevs_areas['area']\n",
    "pop_density_2012 = pop_abbrevs_areas.loc[(pop_abbrevs_areas['ages'] == 'total') & (pop_abbrevs_areas['year'] == 2012),:]\n",
    "display(pop_density_2012.sort_values('density', ascending=False).head(10))"
   ]
  },
  {
   "cell_type": "markdown",
   "metadata": {},
   "source": [
    "### Task 5: Find the 10th largest city in terms of population in 2010 based on age < 18."
   ]
  },
  {
   "cell_type": "code",
   "execution_count": null,
   "metadata": {
    "collapsed": true
   },
   "outputs": [],
   "source": [
    "# TODO"
   ]
  },
  {
   "cell_type": "markdown",
   "metadata": {},
   "source": [
    "## Data aggregation"
   ]
  },
  {
   "cell_type": "code",
   "execution_count": null,
   "metadata": {},
   "outputs": [],
   "source": [
    "# aggregate over all numerical columns\n",
    "display(pop_abbrevs_areas.groupby('year').sum().head())\n",
    "\n",
    "# aggregate over a particular column\n",
    "display(pop_abbrevs_areas.groupby('year')['population'].describe().head())\n",
    "\n",
    "# different aggregations over different columns\n",
    "display(pop_abbrevs_areas.groupby('year', as_index=False).aggregate({\n",
    "    'population': ['mean', 'std'],\n",
    "    'area': ['max', 'min']}))"
   ]
  },
  {
   "cell_type": "markdown",
   "metadata": {},
   "source": [
    "## Pivot Tables"
   ]
  },
  {
   "cell_type": "code",
   "execution_count": null,
   "metadata": {},
   "outputs": [],
   "source": [
    "pop_abbrevs_areas['after 2000'] = pop_abbrevs_areas['year'] > 2000\n",
    "pop_abbrevs_areas_orwa = pop_abbrevs_areas.loc[pop_abbrevs_areas['state'].isin(['Oregon', 'Washington']), :]\n",
    "\n",
    "display(pop_abbrevs_areas_orwa.pivot_table(\n",
    "    index='after 2000', \n",
    "    columns='state',\n",
    "    aggfunc={'population': 'mean', 'area':'mean'}\n",
    "))"
   ]
  },
  {
   "cell_type": "markdown",
   "metadata": {},
   "source": [
    "### Task 6: Get the min, max, mean and median of the population density between 1990 and 2010 based on age group < 18."
   ]
  },
  {
   "cell_type": "code",
   "execution_count": null,
   "metadata": {},
   "outputs": [],
   "source": [
    "# TODO"
   ]
  },
  {
   "cell_type": "markdown",
   "metadata": {},
   "source": [
    "# End of Introduction to Pandas"
   ]
  }
 ],
 "metadata": {
  "kernelspec": {
   "display_name": "Python 3",
   "language": "python",
   "name": "python3"
  },
  "language_info": {
   "codemirror_mode": {
    "name": "ipython",
    "version": 3
   },
   "file_extension": ".py",
   "mimetype": "text/x-python",
   "name": "python",
   "nbconvert_exporter": "python",
   "pygments_lexer": "ipython3",
   "version": "3.6.3"
  }
 },
 "nbformat": 4,
 "nbformat_minor": 2
}
