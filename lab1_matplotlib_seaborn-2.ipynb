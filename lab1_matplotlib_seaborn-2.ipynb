{
 "cells": [
  {
   "cell_type": "markdown",
   "metadata": {
    "collapsed": true
   },
   "source": [
    "# Introduction to Matplotlib and Seaborn\n",
    "\n",
    "Matplotlib is a Python plotting library which produces publication quality figures in a variety of hardcopy formats and interactive environments across platforms."
   ]
  },
  {
   "cell_type": "code",
   "execution_count": null,
   "metadata": {},
   "outputs": [],
   "source": [
    "# install packages\n",
    "import sys\n",
    "\n",
    "!conda install --yes --prefix {sys.prefix} numpy scipy pandas matplotlib seaborn"
   ]
  },
  {
   "cell_type": "code",
   "execution_count": null,
   "metadata": {
    "collapsed": true
   },
   "outputs": [],
   "source": [
    "import warnings\n",
    "\n",
    "import numpy as np\n",
    "import pandas as pd\n",
    "import matplotlib as mpl\n",
    "import matplotlib.pyplot as plt\n",
    "import seaborn as sns\n",
    "sns.set()\n",
    "\n",
    "# include the plots in the notebook\n",
    "%matplotlib inline\n",
    "\n",
    "warnings.simplefilter(action='ignore', category=FutureWarning)\n",
    "\n",
    "# set random seed to reproduce the result\n",
    "np.random.seed(0)"
   ]
  },
  {
   "cell_type": "markdown",
   "metadata": {},
   "source": [
    "## Line plot\n",
    "We will use **line plot** to plot the exponential function.\n",
    "- matplotlib: use [plot](https://matplotlib.org/api/_as_gen/matplotlib.pyplot.plot.html) function.\n",
    "- seaborn: use [lineplot](https://seaborn.pydata.org/generated/seaborn.lineplot.html) function."
   ]
  },
  {
   "cell_type": "code",
   "execution_count": null,
   "metadata": {},
   "outputs": [],
   "source": [
    "a = np.linspace(0, 10, 100)\n",
    "b = np.exp(-a)\n",
    "\n",
    "# TODO: matplotlib version\n",
    "\n",
    "# TODO: seaborn version\n"
   ]
  },
  {
   "cell_type": "markdown",
   "metadata": {},
   "source": [
    "## Scatter plot\n",
    "We will use **scatter plot** to visualize the data.\n",
    "- matplotlib: use [scatter](https://matplotlib.org/api/_as_gen/matplotlib.pyplot.scatter.html) function.\n",
    "- seaborn: use [scatterplot](https://seaborn.pydata.org/generated/seaborn.scatterplot.html) function."
   ]
  },
  {
   "cell_type": "code",
   "execution_count": null,
   "metadata": {},
   "outputs": [],
   "source": [
    "data = {'a': np.arange(50),\n",
    "        'b': np.random.randn(50)*10,\n",
    "        'color': np.random.randint(0, 50, 50),\n",
    "        'size': np.abs(np.random.randn(50)*100)}\n",
    "\n",
    "# TODO: matplotlib version\n",
    "\n",
    "# TODO: seaborn version\n"
   ]
  },
  {
   "cell_type": "markdown",
   "metadata": {},
   "source": [
    "## Load the iris dataset from seaborn"
   ]
  },
  {
   "cell_type": "code",
   "execution_count": null,
   "metadata": {},
   "outputs": [],
   "source": [
    "iris = sns.load_dataset(\"iris\")\n",
    "iris.head()"
   ]
  },
  {
   "cell_type": "markdown",
   "metadata": {},
   "source": [
    "## Scatter plot with bivariate distribution\n",
    "We will use [jointplot](https://seaborn.pydata.org/generated/seaborn.jointplot.html) function from seaborn for this task."
   ]
  },
  {
   "cell_type": "code",
   "execution_count": null,
   "metadata": {},
   "outputs": [],
   "source": [
    "# TODO"
   ]
  },
  {
   "cell_type": "markdown",
   "metadata": {
    "collapsed": true
   },
   "source": [
    "## Histogram\n",
    "We will use [distplot](https://seaborn.pydata.org/generated/seaborn.distplot.html) function to plot the histogram of a variable."
   ]
  },
  {
   "cell_type": "code",
   "execution_count": null,
   "metadata": {},
   "outputs": [],
   "source": [
    "fig, axs = plt.subplots(nrows=1, ncols=3, figsize=(15, 5))\n",
    "\n",
    "plt.subplot(1, 3, 1)\n",
    "# TODO: plot histogram of sepal_length with 10 bins\n",
    "plt.subplot(1, 3, 2)\n",
    "# TODO: plot histogram of sepal_length with 20 bins\n",
    "plt.subplot(1, 3, 3)\n",
    "# TODO: plot histogram of sepal_length with 10 bins without Kernel Density Estimation (KDE)\n",
    "plt.show()"
   ]
  },
  {
   "cell_type": "markdown",
   "metadata": {},
   "source": [
    "## Boxplot\n",
    "We will use [catplot](https://seaborn.pydata.org/generated/seaborn.catplot.html) function to do the boxplot of variable *petal_length* for each iris type."
   ]
  },
  {
   "cell_type": "code",
   "execution_count": null,
   "metadata": {},
   "outputs": [],
   "source": [
    "# TODO"
   ]
  },
  {
   "cell_type": "markdown",
   "metadata": {},
   "source": [
    "## Pair plot\n",
    "To plot multiple pairwise bivariate distributions in a dataset, you can use the [pairplot](https://seaborn.pydata.org/generated/seaborn.pairplot.html) function. This creates a matrix of axes and shows the relationship for each pair of columns in a DataFrame. by default, it also draws the univariate distribution of each variable on the diagonal Axes:"
   ]
  },
  {
   "cell_type": "code",
   "execution_count": null,
   "metadata": {},
   "outputs": [],
   "source": [
    "# TODO"
   ]
  },
  {
   "cell_type": "markdown",
   "metadata": {},
   "source": [
    "# End of Introduction to Matplotlib and Seaborn"
   ]
  }
 ],
 "metadata": {
  "kernelspec": {
   "display_name": "Python 3",
   "language": "python",
   "name": "python3"
  },
  "language_info": {
   "codemirror_mode": {
    "name": "ipython",
    "version": 3
   },
   "file_extension": ".py",
   "mimetype": "text/x-python",
   "name": "python",
   "nbconvert_exporter": "python",
   "pygments_lexer": "ipython3",
   "version": "3.6.3"
  }
 },
 "nbformat": 4,
 "nbformat_minor": 2
}
